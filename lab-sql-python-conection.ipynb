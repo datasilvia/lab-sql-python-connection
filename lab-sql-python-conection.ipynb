{
 "cells": [
  {
   "cell_type": "markdown",
   "metadata": {},
   "source": [
    "## Introduction\n",
    "\n",
    "Welcome to the Connecting Python to SQL lab!\n",
    "\n",
    "In this lab, you will be working with the [Sakila](https://dev.mysql.com/doc/sakila/en/) database on movie rentals. Specifically, you will be practicing how to do basic SQL queries using Python. By connecting Python to SQL, you can leverage the power of both languages to efficiently manipulate and analyze large datasets. Throughout this lab, you will practice how to use Python to retrieve and manipulate data stored in the Sakila database using SQL queries. Let's get started!"
   ]
  },
  {
   "cell_type": "markdown",
   "metadata": {},
   "source": [
    "## Challenge\n",
    "\n",
    "In this lab, the objective is to identify the customers who were active in both May and June, and how did their activity differ between months. To achieve this, follow these steps:"
   ]
  },
  {
   "cell_type": "markdown",
   "metadata": {},
   "source": [
    "1. Establish a connection between Python and the Sakila database."
   ]
  },
  {
   "cell_type": "code",
   "execution_count": null,
   "metadata": {},
   "outputs": [],
   "source": [
    "from sqlalchemy import create_engine\n",
    "import pandas as pd\n",
    "\n",
    "from sqlalchemy import create_engine\n",
    "\n",
    "def get_db_connection():\n",
    "    username = input(\"Introduce tu usuario de MySQL: \")\n",
    "    password = input(\"Introduce tu contraseña de MySQL: \")\n",
    "    \n",
    "    # Configuración de la base de datos\n",
    "    host = 'localhost'  # Cambia a la dirección de tu servidor si no es local\n",
    "    port = 3306         # Cambia el puerto si es diferente al predeterminado\n",
    "    database = 'sakila'\n",
    "\n",
    "    # Crear la conexión con SQLAlchemy\n",
    "    try:\n",
    "        engine = create_engine(f'mysql+pymysql://{username}:{password}@{host}:{port}/{database}')\n",
    "        print(\"Conexión exitosa a la base de datos.\")\n",
    "        return engine\n",
    "    except Exception as e:\n",
    "        print(f\"Error al conectar a la base de datos: {e}\")\n",
    "        return None"
   ]
  },
  {
   "cell_type": "markdown",
   "metadata": {},
   "source": [
    "2. Write a Python function called `rentals_month` that retrieves rental data for a given month and year (passed as parameters) from the Sakila database as a Pandas DataFrame. The function should take in three parameters:\n",
    "\n",
    "\t- `engine`: an object representing the database connection engine to be used to establish a connection to the Sakila database.\n",
    "\t- `month`: an integer representing the month for which rental data is to be retrieved.\n",
    "\t- `year`: an integer representing the year for which rental data is to be retrieved.\n",
    "\n",
    "\tThe function should execute a SQL query to retrieve the rental data for the specified month and year from the rental table in the Sakila database, and return it as a pandas DataFrame."
   ]
  },
  {
   "cell_type": "code",
   "execution_count": null,
   "metadata": {},
   "outputs": [],
   "source": [
    "def rentals_month(engine, month, year):\n",
    "    query = f\"\"\"\n",
    "    SELECT \n",
    "        customer_id, \n",
    "        COUNT(*) AS rentals \n",
    "    FROM \n",
    "        rental \n",
    "    WHERE \n",
    "        MONTH(rental_date) = {month} AND YEAR(rental_date) = {year}\n",
    "    GROUP BY \n",
    "        customer_id\n",
    "    \"\"\"\n",
    "    df = pd.read_sql(query, engine)\n",
    "    return df"
   ]
  },
  {
   "cell_type": "markdown",
   "metadata": {},
   "source": [
    "3. Develop a Python function called `rental_count_month` that takes the DataFrame provided by `rentals_month` as input along with the month and year and returns a new DataFrame containing the number of rentals made by each customer_id during the selected month and year. \n",
    "\n",
    "\tThe function should also include the month and year as parameters and use them to name the new column according to the month and year, for example, if the input month is 05 and the year is 2005, the column name should be \"rentals_05_2005\".\n",
    "\n",
    "\n",
    "\t*Hint: Consider making use of pandas [groupby()](https://pandas.pydata.org/docs/reference/api/pandas.DataFrame.groupby.html)*"
   ]
  },
  {
   "cell_type": "code",
   "execution_count": null,
   "metadata": {},
   "outputs": [],
   "source": [
    "def rental_count_month(df, month, year):\n",
    "\n",
    "    new_column_name = f\"rentals_{str(month).zfill(2)}_{year}\"\n",
    "    df = df.rename(columns={\"rentals\": new_column_name})\n",
    "    return df\n",
    "\n"
   ]
  },
  {
   "cell_type": "markdown",
   "metadata": {},
   "source": [
    "4. Create a Python function called `compare_rentals` that takes two DataFrames as input containing the number of rentals made by each customer in different months and years. \n",
    "The function should return a combined DataFrame with a new 'difference' column, which is the difference between the number of rentals in the two months.\n"
   ]
  },
  {
   "cell_type": "code",
   "execution_count": null,
   "metadata": {},
   "outputs": [],
   "source": [
    "def compare_rentals(df1, df2):\n",
    "\n",
    "    merged_df = pd.merge(df1, df2, on=\"customer_id\", how=\"outer\").fillna(0)\n",
    "    \n",
    "    rental_columns = [col for col in merged_df.columns if col.startswith('rentals')]\n",
    "    merged_df['difference'] = merged_df[rental_columns[0]] - merged_df[rental_columns[1]]\n",
    "    \n",
    "    return merged_df\n",
    "\n"
   ]
  }
 ],
 "metadata": {
  "language_info": {
   "name": "python"
  }
 },
 "nbformat": 4,
 "nbformat_minor": 2
}
